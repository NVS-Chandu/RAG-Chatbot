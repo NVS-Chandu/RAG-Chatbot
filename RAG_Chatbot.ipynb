{
  "nbformat": 4,
  "nbformat_minor": 0,
  "metadata": {
    "colab": {
      "provenance": []
    },
    "kernelspec": {
      "name": "python3",
      "display_name": "Python 3"
    },
    "language_info": {
      "name": "python"
    }
  },
  "cells": [
    {
      "cell_type": "code",
      "execution_count": null,
      "metadata": {
        "id": "Z0-VUQZMqxtO"
      },
      "outputs": [],
      "source": [
        "!pip install langchain chromadb sentence-transformers PyPDF2 streamlit pyngrok --quiet\n"
      ]
    },
    {
      "cell_type": "code",
      "source": [
        "import os\n",
        "import streamlit as st\n",
        "from langchain.chains import RetrievalQA\n",
        "from langchain.llms import Groq\n",
        "from langchain.vectorstores import Chroma\n",
        "from langchain.embeddings import HuggingFaceEmbeddings\n",
        "from langchain.document_loaders import PyPDFLoader\n",
        "from langchain.text_splitter import CharacterTextSplitter\n",
        "from pyngrok import ngrok\n"
      ],
      "metadata": {
        "id": "eHydj3Atq1y2"
      },
      "execution_count": null,
      "outputs": []
    },
    {
      "cell_type": "code",
      "source": [
        "# Replace '<YOUR_GROQ_API_KEY>' with your own key when running\n",
        "os.environ[\"GROQ_API_KEY\"] = \"<YOUR_GROQ_API_KEY>\"\n",
        "\n",
        "llm = Groq(model=\"groq-gpt-3.5-turbo\", api_key=os.getenv(\"GROQ_API_KEY\"))\n"
      ],
      "metadata": {
        "id": "Q62c05vkq8Rm"
      },
      "execution_count": null,
      "outputs": []
    },
    {
      "cell_type": "code",
      "source": [
        "# Embeddings\n",
        "embedding_model = HuggingFaceEmbeddings(model_name=\"all-MiniLM-L6-v2\")\n",
        "\n",
        "# Local ChromaDB vector store\n",
        "vectorstore = Chroma(persist_directory=\"db\", embedding_function=embedding_model)\n"
      ],
      "metadata": {
        "id": "hMVd0_TMroPB"
      },
      "execution_count": null,
      "outputs": []
    },
    {
      "cell_type": "code",
      "source": [],
      "metadata": {
        "id": "AnYEo97prpxt"
      },
      "execution_count": null,
      "outputs": []
    },
    {
      "cell_type": "code",
      "source": [
        "def main():\n",
        "    st.title(\"RAG PDF Chatbot\")\n",
        "\n",
        "    # PDF upload\n",
        "    uploaded_files = st.file_uploader(\"Upload PDF(s)\", type=\"pdf\", accept_multiple_files=True)\n",
        "    if uploaded_files:\n",
        "        for uploaded_file in uploaded_files:\n",
        "            loader = PyPDFLoader(uploaded_file)\n",
        "            documents = loader.load()\n",
        "\n",
        "            # Split into chunks\n",
        "            text_splitter = CharacterTextSplitter(chunk_size=500, chunk_overlap=50)\n",
        "            texts = text_splitter.split_documents(documents)\n",
        "\n",
        "            # Add to ChromaDB\n",
        "            vectorstore.add_documents(texts)\n",
        "            vectorstore.persist()\n",
        "        st.success(\"PDF(s) processed and added to vector database!\")\n",
        "\n",
        "    # Create retriever & QA chain\n",
        "    retriever = vectorstore.as_retriever(search_kwargs={\"k\": 3})\n",
        "    qa_chain = RetrievalQA.from_chain_type(llm=llm, chain_type=\"stuff\", retriever=retriever)\n",
        "\n",
        "    # Query input\n",
        "    user_input = st.text_input(\"Ask a question:\")\n",
        "    if user_input:\n",
        "        response = qa_chain.run(user_input)\n",
        "        st.write(response)\n",
        "\n",
        "if __name__ == \"__main__\":\n",
        "    main()\n"
      ],
      "metadata": {
        "id": "EKYg3osYq9-W"
      },
      "execution_count": null,
      "outputs": []
    },
    {
      "cell_type": "code",
      "source": [
        "!streamlit run app.py &>/dev/null&\n",
        "public_url = ngrok.connect(port=\"8501\")\n",
        "public_url\n"
      ],
      "metadata": {
        "id": "0CT_QZqWrAeN"
      },
      "execution_count": null,
      "outputs": []
    }
  ]
}